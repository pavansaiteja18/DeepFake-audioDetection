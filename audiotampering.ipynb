{
 "cells": [
  {
   "cell_type": "code",
   "execution_count": 2,
   "metadata": {},
   "outputs": [],
   "source": [
    "import librosa\n",
    "import numpy as np\n",
    "import os\n",
    "from sklearn.preprocessing import StandardScaler"
   ]
  },
  {
   "cell_type": "code",
   "execution_count": null,
   "metadata": {},
   "outputs": [],
   "source": [
    "import os\n",
    "import numpy as np\n",
    "import librosa\n",
    "data_path = 'D:/release_in_the_wild/'\n",
    "def load_and_preprocess_data(data_path):\n",
    "    audio_features = []\n",
    "    labels = []\n",
    "    file_count = 0\n",
    "\n",
    "    # Check if the dataset path exists\n",
    "    if not os.path.exists(dataset_path):\n",
    "        print(f\"Dataset path {dataset_path} does not exist.\")\n",
    "        return np.array([]), np.array([])\n",
    "\n",
    "    # Walk through the dataset directory\n",
    "    for root, dirs, files in os.walk(dataset_path):\n",
    "        print(f\"Processing directory: {root}\")\n",
    "        for file in files:\n",
    "            if file.endswith('.wav'):\n",
    "                file_path = os.path.join(root, file)\n",
    "                try:\n",
    "                    audio, sr = librosa.load(file_path, sr=16000)\n",
    "                    mfcc = librosa.feature.mfcc(y=audio, sr=sr, n_mfcc=13)\n",
    "                    mfcc_mean = np.mean(mfcc.T, axis=0)\n",
    "                    audio_features.append(mfcc_mean)\n",
    "                    # labels.append(0 if 'real' in file_path else 1)\n",
    "                    # file_count += 1\n",
    "\n",
    "                    # if file_count % 5000 == 0:\n",
    "                    #     print(f'Processed {file_count} files')\n",
    "\n",
    "                except Exception as e:\n",
    "                    print(f'Error processing file {file_path}: {e}')\n",
    "\n",
    "    return np.array(audio_features), np.array(labels)\n",
    "\n",
    "dataset_path = 'D:/release_in_the_wild/'\n",
    "X, y = load_and_preprocess_data(dataset_path)\n",
    "\n",
    "print(f'Extracted features shape: {X.shape}')\n",
    "print(f'Labels shape: {y.shape}')"
   ]
  },
  {
   "cell_type": "code",
   "execution_count": null,
   "metadata": {},
   "outputs": [],
   "source": [
    "from sklearn.preprocessing import StandardScaler\n",
    "#Data normalisation\n",
    "scaler = StandardScaler()\n",
    "X_scaled = scaler.fit_transform(X)"
   ]
  },
  {
   "cell_type": "code",
   "execution_count": null,
   "metadata": {},
   "outputs": [],
   "source": [
    "from tensorflow.keras.models import Sequential\n",
    "from tensorflow.keras.layers import Dense, Dropout, BatchNormalization\n",
    "from tensorflow.keras.layers import LeakyReLU, GaussianNoise\n",
    "from tensorflow.keras.optimizers import Adam\n",
    "from tensorflow.keras.regularizers import l2\n",
    "\n",
    "def build_model(input_shape):\n",
    "    model = Sequential()\n",
    "\n",
    "    # Input layer with Gaussian noise for regularization\n",
    "    model.add(GaussianNoise(0.1, input_shape=(input_shape,)))\n",
    "\n",
    "    # First hidden layer\n",
    "    model.add(Dense(128, kernel_regularizer=l2(0.001)))\n",
    "    model.add(BatchNormalization())\n",
    "    model.add(LeakyReLU(alpha=0.3))\n",
    "    model.add(Dropout(0.3))\n",
    "\n",
    "    # Second hidden layer\n",
    "    model.add(Dense(64, kernel_regularizer=l2(0.001)))\n",
    "    model.add(BatchNormalization())\n",
    "    model.add(LeakyReLU(alpha=0.3))\n",
    "    model.add(Dropout(0.4))\n",
    "\n",
    "    # Third hidden layer\n",
    "    model.add(Dense(32, kernel_regularizer=l2(0.001)))\n",
    "    model.add(BatchNormalization())\n",
    "    model.add(LeakyReLU(alpha=0.3))\n",
    "    model.add(Dropout(0.5))\n",
    "\n",
    "    # Output layer\n",
    "    model.add(Dense(1, activation='sigmoid'))\n",
    "\n",
    "    # Optimizer with learning rate scheduling\n",
    "    optimizer = Adam(learning_rate=0.001, decay=1e-6)\n",
    "\n",
    "    # Compile the model\n",
    "    model.compile(optimizer=optimizer,\n",
    "                  loss='binary_crossentropy',\n",
    "                  metrics=['accuracy'])\n",
    "\n",
    "    return model"
   ]
  }
 ],
 "metadata": {
  "kernelspec": {
   "display_name": ".venv",
   "language": "python",
   "name": "python3"
  },
  "language_info": {
   "codemirror_mode": {
    "name": "ipython",
    "version": 3
   },
   "file_extension": ".py",
   "mimetype": "text/x-python",
   "name": "python",
   "nbconvert_exporter": "python",
   "pygments_lexer": "ipython3",
   "version": "3.9.0"
  }
 },
 "nbformat": 4,
 "nbformat_minor": 2
}
